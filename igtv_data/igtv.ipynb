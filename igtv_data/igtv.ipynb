{
 "cells": [
  {
   "cell_type": "code",
   "execution_count": 28,
   "id": "f9bd07b1-0dc7-4bae-a556-27f2a5fcb2d3",
   "metadata": {},
   "outputs": [],
   "source": [
    "import pyforest"
   ]
  },
  {
   "cell_type": "code",
   "execution_count": 41,
   "id": "0673cf2f-e25c-459f-89b3-700eab4b90c6",
   "metadata": {
    "tags": []
   },
   "outputs": [],
   "source": [
    "data = pd.read_csv('data_igtv.csv')"
   ]
  },
  {
   "cell_type": "code",
   "execution_count": 42,
   "id": "4575fff4-31a9-4d7b-9d47-aaa2c955dcf3",
   "metadata": {
    "tags": []
   },
   "outputs": [
    {
     "name": "stdout",
     "output_type": "stream",
     "text": [
      "campaign_id                       0\n",
      "campaign_name                     0\n",
      "campaign_start_date               0\n",
      "campaign_end_date                 0\n",
      "campaign_budget                   0\n",
      "campaign_impressions              0\n",
      "campaign_clicks                   0\n",
      "campaign_conversions              0\n",
      "campaign_reach                    0\n",
      "campaign_engagement_rate          0\n",
      "campaign_click_through_rate       0\n",
      "campaign_conversion_rate          0\n",
      "campaign_average_engagement       0\n",
      "campaign_total_engagement         0\n",
      "campaign_video_views              0\n",
      "campaign_video_completion_rate    0\n",
      "campaign_comments                 0\n",
      "dtype: int64\n",
      "     campaign_id             campaign_name campaign_start_date  \\\n",
      "0              1  Back-to-School Promotion          10/15/2022   \n",
      "1              2               Spring Sale            4/4/2022   \n",
      "2              3           Summer Campaign            4/2/2022   \n",
      "3              4               Spring Sale           1/17/2022   \n",
      "4              5     End of Year Clearance            7/6/2022   \n",
      "..           ...                       ...                 ...   \n",
      "995          996           Holiday Special           8/12/2022   \n",
      "996          997           Holiday Special           1/17/2022   \n",
      "997          998           Holiday Special           3/10/2022   \n",
      "998          999           Summer Campaign            9/4/2022   \n",
      "999         1000               Spring Sale           7/19/2022   \n",
      "\n",
      "    campaign_end_date campaign_budget  campaign_impressions  campaign_clicks  \\\n",
      "0           9/19/2022        $8691.15                630312             9837   \n",
      "1           10/7/2022        $2306.69                868279             4290   \n",
      "2           9/26/2022        $6342.71                585424             2933   \n",
      "3            1/9/2022        $7526.81                555276             4431   \n",
      "4            9/9/2022        $7354.41                547789              396   \n",
      "..                ...             ...                   ...              ...   \n",
      "995         6/29/2022        $6609.17                 92454             2195   \n",
      "996        11/14/2022        $7786.15                465721             1372   \n",
      "997         7/13/2022        $6047.07                819583             4233   \n",
      "998          7/4/2022        $7872.75                101089             1438   \n",
      "999         7/23/2022        $2153.99                 35193             9074   \n",
      "\n",
      "     campaign_conversions  campaign_reach  campaign_engagement_rate  \\\n",
      "0                     273          263066                      0.06   \n",
      "1                     235          422302                      0.07   \n",
      "2                     438          883278                      0.06   \n",
      "3                     678          157115                      0.04   \n",
      "4                     955          508570                      0.05   \n",
      "..                    ...             ...                       ...   \n",
      "995                   276          469662                      0.08   \n",
      "996                   919          662154                      0.01   \n",
      "997                   989          705189                      0.07   \n",
      "998                    34          505720                      0.03   \n",
      "999                   475          387288                      0.08   \n",
      "\n",
      "     campaign_click_through_rate  campaign_conversion_rate  \\\n",
      "0                           0.22                      0.11   \n",
      "1                           0.20                      0.38   \n",
      "2                           0.14                      0.43   \n",
      "3                           0.32                      0.50   \n",
      "4                           0.37                      0.25   \n",
      "..                           ...                       ...   \n",
      "995                         0.24                      0.04   \n",
      "996                         0.37                      0.16   \n",
      "997                         0.01                      0.44   \n",
      "998                         0.02                      0.36   \n",
      "999                         0.23                      0.42   \n",
      "\n",
      "     campaign_average_engagement  campaign_total_engagement  \\\n",
      "0                             10                       4340   \n",
      "1                              8                       9818   \n",
      "2                              9                       9265   \n",
      "3                              2                       4748   \n",
      "4                              6                       2602   \n",
      "..                           ...                        ...   \n",
      "995                            6                       8728   \n",
      "996                            1                       8878   \n",
      "997                            4                       6053   \n",
      "998                            7                       4573   \n",
      "999                            9                       7553   \n",
      "\n",
      "     campaign_video_views  campaign_video_completion_rate  campaign_comments  \n",
      "0                   40559                            0.41                451  \n",
      "1                  900700                            0.07                219  \n",
      "2                  583131                            0.18                424  \n",
      "3                  937853                            0.11                405  \n",
      "4                  738070                            0.10                617  \n",
      "..                    ...                             ...                ...  \n",
      "995                239546                            0.05                765  \n",
      "996                807467                            0.02                598  \n",
      "997                621695                            0.29                726  \n",
      "998                942977                            0.42                140  \n",
      "999                604064                            0.49                362  \n",
      "\n",
      "[1000 rows x 17 columns]\n"
     ]
    }
   ],
   "source": [
    "# Check for missing values\n",
    "print(data.isna().sum())\n",
    "\n",
    "# Drop duplicate rows\n",
    "data = data.drop_duplicates()\n",
    "\n",
    "# Print the cleaned data\n",
    "print(data)"
   ]
  },
  {
   "cell_type": "code",
   "execution_count": null,
   "id": "ddc2ab25-9626-4893-b678-75f0f0d78d84",
   "metadata": {
    "tags": []
   },
   "outputs": [],
   "source": [
    "# Calculate the average video views\n",
    "average_video_views = data['campaign_video_views'].mean()\n",
    "\n",
    "print(average_video_views)\n",
    "\n",
    "#calculate video_completion_rate\n",
    "average_video_completion_rate = data['campaign_video_completion_rate'].mean()\n",
    "\n",
    "print(average_video_completion_rate)"
   ]
  },
  {
   "cell_type": "code",
   "execution_count": null,
   "id": "f873e37c-c3bc-4dad-9410-dfbbeb97b901",
   "metadata": {},
   "outputs": [],
   "source": [
    "# which campagn had the highest engagement rate\n",
    "highest_engagement_rate = "
   ]
  }
 ],
 "metadata": {
  "kernelspec": {
   "display_name": "Python 3 (ipykernel)",
   "language": "python",
   "name": "python3"
  },
  "language_info": {
   "codemirror_mode": {
    "name": "ipython",
    "version": 3
   },
   "file_extension": ".py",
   "mimetype": "text/x-python",
   "name": "python",
   "nbconvert_exporter": "python",
   "pygments_lexer": "ipython3",
   "version": "3.11.4"
  }
 },
 "nbformat": 4,
 "nbformat_minor": 5
}
